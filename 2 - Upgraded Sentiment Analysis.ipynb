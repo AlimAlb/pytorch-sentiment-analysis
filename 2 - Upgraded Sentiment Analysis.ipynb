{
  "cells": [
    {
      "cell_type": "markdown",
      "metadata": {
        "id": "dezqHYfi8_va"
      },
      "source": [
        "# 2 - Updated Sentiment Analysis\n",
        "\n",
        "In the previous notebook, we got the fundamentals down for sentiment analysis. In this notebook, we'll actually get decent results.\n",
        "\n",
        "We will use:\n",
        "- packed padded sequences\n",
        "- pre-trained word embeddings\n",
        "- different RNN architecture\n",
        "- bidirectional RNN\n",
        "- multi-layer RNN\n",
        "- regularization\n",
        "- a different optimizer\n",
        "\n",
        "This will allow us to achieve ~84% test accuracy."
      ]
    },
    {
      "cell_type": "markdown",
      "metadata": {
        "id": "yNLFYpBu8_vh"
      },
      "source": [
        "## Preparing Data\n",
        "\n",
        "As before, we'll set the seed, define the `Fields` and get the train/valid/test splits.\n",
        "\n",
        "We'll be using *packed padded sequences*, which will make our RNN only process the non-padded elements of our sequence, and for any padded element the `output` will be a zero tensor. To use packed padded sequences, we have to tell the RNN how long the actual sequences are. We do this by setting `include_lengths = True` for our `TEXT` field. This will cause `batch.text` to now be a tuple with the first element being our sentence (a numericalized tensor that has been padded) and the second element being the actual lengths of our sentences."
      ]
    },
    {
      "cell_type": "code",
      "source": [
        "#Все токены, которые есть в словаре, но нет в векторах по умолчанию станут нулями, что нам не нужно. Поэтому мы инициализируем их из нормального распределения\n",
        "#Когда pretrained-embeddings будут уже загружены в модель, стоит поменять первые два токена(unk и pad) на нули\n",
        "#\n",
        "#\n",
        "#\n",
        "#\n",
        "#\n",
        "#\n",
        "#\n",
        "#\n",
        "#\n",
        "#\n",
        "#\n",
        "#\n",
        "#\n"
      ],
      "metadata": {
        "id": "JcC_nEBliEvd"
      },
      "execution_count": null,
      "outputs": []
    },
    {
      "cell_type": "code",
      "source": [
        "pip install torchtext==0.10.0"
      ],
      "metadata": {
        "colab": {
          "base_uri": "https://localhost:8080/"
        },
        "id": "0J7uYuNGBCK-",
        "outputId": "d4e44f50-e33d-43bb-e6c1-2f276cd385f2"
      },
      "execution_count": 1,
      "outputs": [
        {
          "output_type": "stream",
          "name": "stdout",
          "text": [
            "Looking in indexes: https://pypi.org/simple, https://us-python.pkg.dev/colab-wheels/public/simple/\n",
            "Collecting torchtext==0.10.0\n",
            "  Downloading torchtext-0.10.0-cp38-cp38-manylinux1_x86_64.whl (7.6 MB)\n",
            "\u001b[K     |████████████████████████████████| 7.6 MB 15.2 MB/s \n",
            "\u001b[?25hCollecting torch==1.9.0\n",
            "  Downloading torch-1.9.0-cp38-cp38-manylinux1_x86_64.whl (831.4 MB)\n",
            "\u001b[K     |████████████████████████████████| 831.4 MB 15 kB/s \n",
            "\u001b[?25hRequirement already satisfied: tqdm in /usr/local/lib/python3.8/dist-packages (from torchtext==0.10.0) (4.64.1)\n",
            "Requirement already satisfied: requests in /usr/local/lib/python3.8/dist-packages (from torchtext==0.10.0) (2.23.0)\n",
            "Requirement already satisfied: numpy in /usr/local/lib/python3.8/dist-packages (from torchtext==0.10.0) (1.21.6)\n",
            "Requirement already satisfied: typing-extensions in /usr/local/lib/python3.8/dist-packages (from torch==1.9.0->torchtext==0.10.0) (4.1.1)\n",
            "Requirement already satisfied: idna<3,>=2.5 in /usr/local/lib/python3.8/dist-packages (from requests->torchtext==0.10.0) (2.10)\n",
            "Requirement already satisfied: chardet<4,>=3.0.2 in /usr/local/lib/python3.8/dist-packages (from requests->torchtext==0.10.0) (3.0.4)\n",
            "Requirement already satisfied: certifi>=2017.4.17 in /usr/local/lib/python3.8/dist-packages (from requests->torchtext==0.10.0) (2022.9.24)\n",
            "Requirement already satisfied: urllib3!=1.25.0,!=1.25.1,<1.26,>=1.21.1 in /usr/local/lib/python3.8/dist-packages (from requests->torchtext==0.10.0) (1.24.3)\n",
            "Installing collected packages: torch, torchtext\n",
            "  Attempting uninstall: torch\n",
            "    Found existing installation: torch 1.12.1+cu113\n",
            "    Uninstalling torch-1.12.1+cu113:\n",
            "      Successfully uninstalled torch-1.12.1+cu113\n",
            "  Attempting uninstall: torchtext\n",
            "    Found existing installation: torchtext 0.13.1\n",
            "    Uninstalling torchtext-0.13.1:\n",
            "      Successfully uninstalled torchtext-0.13.1\n",
            "\u001b[31mERROR: pip's dependency resolver does not currently take into account all the packages that are installed. This behaviour is the source of the following dependency conflicts.\n",
            "torchvision 0.13.1+cu113 requires torch==1.12.1, but you have torch 1.9.0 which is incompatible.\n",
            "torchaudio 0.12.1+cu113 requires torch==1.12.1, but you have torch 1.9.0 which is incompatible.\u001b[0m\n",
            "Successfully installed torch-1.9.0 torchtext-0.10.0\n"
          ]
        }
      ]
    },
    {
      "cell_type": "code",
      "execution_count": 2,
      "metadata": {
        "id": "rKM0UakN8_vk"
      },
      "outputs": [],
      "source": [
        "import torch\n",
        "from torchtext.legacy import data\n",
        "\n",
        "SEED = 1234\n",
        "\n",
        "torch.manual_seed(SEED)\n",
        "torch.backends.cudnn.deterministic = True\n",
        "\n",
        "TEXT = data.Field(tokenize = 'spacy',\n",
        "                  tokenizer_language = 'en_core_web_sm',\n",
        "                  include_lengths = True)\n",
        "\n",
        "LABEL = data.LabelField(dtype = torch.float)"
      ]
    },
    {
      "cell_type": "markdown",
      "metadata": {
        "id": "N6ZGuMsw8_vn"
      },
      "source": [
        "We then load the IMDb dataset."
      ]
    },
    {
      "cell_type": "code",
      "execution_count": 4,
      "metadata": {
        "colab": {
          "base_uri": "https://localhost:8080/"
        },
        "id": "bdlvdwSl8_vp",
        "outputId": "2acdc252-05de-4dd2-e98c-5293e5c9a5da"
      },
      "outputs": [
        {
          "output_type": "stream",
          "name": "stdout",
          "text": [
            "downloading aclImdb_v1.tar.gz\n"
          ]
        },
        {
          "output_type": "stream",
          "name": "stderr",
          "text": [
            "aclImdb_v1.tar.gz: 100%|██████████| 84.1M/84.1M [00:03<00:00, 22.5MB/s]\n"
          ]
        }
      ],
      "source": [
        "from torchtext.legacy import datasets\n",
        "\n",
        "train_data, test_data = datasets.IMDB.splits(TEXT, LABEL)"
      ]
    },
    {
      "cell_type": "markdown",
      "metadata": {
        "id": "0eCAbsb88_vr"
      },
      "source": [
        "Then create the validation set from our training set."
      ]
    },
    {
      "cell_type": "code",
      "execution_count": 5,
      "metadata": {
        "id": "e9VUwgWb8_vs"
      },
      "outputs": [],
      "source": [
        "import random\n",
        "\n",
        "train_data, valid_data = train_data.split(random_state = random.seed(SEED))"
      ]
    },
    {
      "cell_type": "markdown",
      "metadata": {
        "id": "tdoAfYWG8_vt"
      },
      "source": [
        "Next is the use of pre-trained word embeddings. Now, instead of having our word embeddings initialized randomly, they are initialized with these pre-trained vectors.\n",
        "We get these vectors simply by specifying which vectors we want and passing it as an argument to `build_vocab`. `TorchText` handles downloading the vectors and associating them with the correct words in our vocabulary.\n",
        "\n",
        "Here, we'll be using the `\"glove.6B.100d\" vectors\"`. `glove` is the algorithm used to calculate the vectors, go [here](https://nlp.stanford.edu/projects/glove/) for more. `6B` indicates these vectors were trained on 6 billion tokens and `100d` indicates these vectors are 100-dimensional.\n",
        "\n",
        "You can see the other available vectors [here](https://github.com/pytorch/text/blob/master/torchtext/vocab.py#L113).\n",
        "\n",
        "The theory is that these pre-trained vectors already have words with similar semantic meaning close together in vector space, e.g. \"terrible\", \"awful\", \"dreadful\" are nearby. This gives our embedding layer a good initialization as it does not have to learn these relations from scratch.\n",
        "\n",
        "**Note**: these vectors are about 862MB, so watch out if you have a limited internet connection.\n",
        "\n",
        "By default, TorchText will initialize words in your vocabulary but not in your pre-trained embeddings to zero. We don't want this, and instead initialize them randomly by setting `unk_init` to `torch.Tensor.normal_`. This will now initialize those words via a Gaussian distribution."
      ]
    },
    {
      "cell_type": "code",
      "execution_count": 6,
      "metadata": {
        "colab": {
          "base_uri": "https://localhost:8080/"
        },
        "id": "TXJOVhwM8_vv",
        "outputId": "aef14b3e-d39d-4b0b-c5e7-4bfd6d4416e9"
      },
      "outputs": [
        {
          "output_type": "stream",
          "name": "stderr",
          "text": [
            ".vector_cache/glove.6B.zip: 862MB [02:46, 5.16MB/s]                           \n",
            "100%|█████████▉| 399999/400000 [00:11<00:00, 34159.40it/s]\n"
          ]
        }
      ],
      "source": [
        "MAX_VOCAB_SIZE = 25_000\n",
        "\n",
        "TEXT.build_vocab(train_data, \n",
        "                 max_size = MAX_VOCAB_SIZE, \n",
        "                 vectors = \"glove.6B.100d\", \n",
        "                 unk_init = torch.Tensor.normal_)\n",
        "\n",
        "\n",
        "\n"
      ]
    },
    {
      "cell_type": "code",
      "source": [
        "TEXT.vocab.itos"
      ],
      "metadata": {
        "id": "2qtgpcJhdJlz",
        "outputId": "10b07c52-e950-41ad-949a-4fe757a01b71",
        "colab": {
          "base_uri": "https://localhost:8080/"
        }
      },
      "execution_count": 31,
      "outputs": [
        {
          "output_type": "execute_result",
          "data": {
            "text/plain": [
              "['<unk>',\n",
              " '<pad>',\n",
              " 'the',\n",
              " ',',\n",
              " '.',\n",
              " 'and',\n",
              " 'a',\n",
              " 'of',\n",
              " 'to',\n",
              " 'is',\n",
              " 'in',\n",
              " 'I',\n",
              " 'it',\n",
              " 'that',\n",
              " '\"',\n",
              " \"'s\",\n",
              " 'this',\n",
              " '-',\n",
              " '/><br',\n",
              " 'was',\n",
              " 'as',\n",
              " 'movie',\n",
              " 'with',\n",
              " 'for',\n",
              " 'film',\n",
              " 'The',\n",
              " 'but',\n",
              " 'on',\n",
              " \"n't\",\n",
              " '(',\n",
              " ')',\n",
              " 'you',\n",
              " 'are',\n",
              " 'not',\n",
              " 'have',\n",
              " 'his',\n",
              " 'be',\n",
              " 'he',\n",
              " 'one',\n",
              " '!',\n",
              " 'at',\n",
              " 'all',\n",
              " 'by',\n",
              " 'an',\n",
              " 'who',\n",
              " 'they',\n",
              " 'from',\n",
              " 'like',\n",
              " 'so',\n",
              " 'or',\n",
              " 'has',\n",
              " \"'\",\n",
              " 'about',\n",
              " 'her',\n",
              " 'It',\n",
              " 'out',\n",
              " 'just',\n",
              " 'do',\n",
              " '?',\n",
              " 'some',\n",
              " 'good',\n",
              " 'more',\n",
              " 'very',\n",
              " 'would',\n",
              " 'up',\n",
              " 'what',\n",
              " 'This',\n",
              " 'there',\n",
              " 'time',\n",
              " 'can',\n",
              " 'which',\n",
              " 'when',\n",
              " 'had',\n",
              " 'only',\n",
              " 'story',\n",
              " 'really',\n",
              " 'if',\n",
              " 'she',\n",
              " 'were',\n",
              " 'even',\n",
              " 'see',\n",
              " 'their',\n",
              " 'no',\n",
              " 'my',\n",
              " 'does',\n",
              " 'did',\n",
              " 'me',\n",
              " 'than',\n",
              " '...',\n",
              " 'much',\n",
              " 'been',\n",
              " 'could',\n",
              " 'get',\n",
              " ':',\n",
              " 'into',\n",
              " 'bad',\n",
              " 'well',\n",
              " 'we',\n",
              " 'will',\n",
              " 'people',\n",
              " 'other',\n",
              " 'because',\n",
              " 'him',\n",
              " 'great',\n",
              " 'made',\n",
              " 'most',\n",
              " 'first',\n",
              " 'make',\n",
              " 'how',\n",
              " 'them',\n",
              " 'also',\n",
              " 'way',\n",
              " 'its',\n",
              " 'too',\n",
              " 'any',\n",
              " 'movies',\n",
              " '/>The',\n",
              " '<',\n",
              " 'br',\n",
              " 'think',\n",
              " 'character',\n",
              " 'characters',\n",
              " 'then',\n",
              " 'films',\n",
              " ';',\n",
              " 'seen',\n",
              " 'plot',\n",
              " 'But',\n",
              " 'two',\n",
              " 'watch',\n",
              " 'being',\n",
              " 'many',\n",
              " 'acting',\n",
              " 'over',\n",
              " 'life',\n",
              " 'And',\n",
              " 'after',\n",
              " 'never',\n",
              " 'little',\n",
              " 'off',\n",
              " 'know',\n",
              " 'where',\n",
              " 'best',\n",
              " 'ever',\n",
              " 'show',\n",
              " 'love',\n",
              " 'better',\n",
              " '*',\n",
              " 'your',\n",
              " 'end',\n",
              " 'A',\n",
              " 'say',\n",
              " 'There',\n",
              " 'should',\n",
              " 'scene',\n",
              " 'He',\n",
              " 'i',\n",
              " 'scenes',\n",
              " 'still',\n",
              " 'In',\n",
              " \"'ve\",\n",
              " 'such',\n",
              " 'man',\n",
              " 'here',\n",
              " '/',\n",
              " 'something',\n",
              " 'through',\n",
              " 'go',\n",
              " 'back',\n",
              " 'these',\n",
              " 'real',\n",
              " 'those',\n",
              " \"'m\",\n",
              " 'actors',\n",
              " 'If',\n",
              " 'watching',\n",
              " 'thing',\n",
              " 'years',\n",
              " 'old',\n",
              " 'work',\n",
              " 'makes',\n",
              " 'find',\n",
              " 'actually',\n",
              " 'though',\n",
              " '--',\n",
              " 'few',\n",
              " 'going',\n",
              " 'funny',\n",
              " 'same',\n",
              " 'lot',\n",
              " 'director',\n",
              " 'before',\n",
              " 'look',\n",
              " 'while',\n",
              " 'why',\n",
              " 'part',\n",
              " 'nothing',\n",
              " \"'re\",\n",
              " 'want',\n",
              " 'cast',\n",
              " 'quite',\n",
              " '/>I',\n",
              " 'again',\n",
              " 'another',\n",
              " 'ca',\n",
              " 'around',\n",
              " 'got',\n",
              " 'fact',\n",
              " 'down',\n",
              " 'every',\n",
              " 'seems',\n",
              " 'pretty',\n",
              " 'enough',\n",
              " 'things',\n",
              " 'thought',\n",
              " 'between',\n",
              " 'own',\n",
              " '&',\n",
              " 'horror',\n",
              " 'action',\n",
              " 'long',\n",
              " 'world',\n",
              " 'original',\n",
              " 'take',\n",
              " 'young',\n",
              " 'gets',\n",
              " 'now',\n",
              " 'may',\n",
              " 'series',\n",
              " 'role',\n",
              " 'right',\n",
              " 'give',\n",
              " 'must',\n",
              " 'us',\n",
              " 'always',\n",
              " 'least',\n",
              " 'new',\n",
              " 'comedy',\n",
              " 'interesting',\n",
              " 'whole',\n",
              " 'They',\n",
              " 'point',\n",
              " 'almost',\n",
              " 'both',\n",
              " 'done',\n",
              " 'saw',\n",
              " 'without',\n",
              " 'bit',\n",
              " 'come',\n",
              " 'times',\n",
              " 'You',\n",
              " 'feel',\n",
              " 'big',\n",
              " 'script',\n",
              " 'guy',\n",
              " 'family',\n",
              " 'making',\n",
              " 'far',\n",
              " 'might',\n",
              " 'anything',\n",
              " 'performance',\n",
              " 'minutes',\n",
              " 'music',\n",
              " 'What',\n",
              " 'am',\n",
              " \"'ll\",\n",
              " 'TV',\n",
              " 'probably',\n",
              " 'kind',\n",
              " 'As',\n",
              " 'rather',\n",
              " 'She',\n",
              " 'away',\n",
              " 'last',\n",
              " 'woman',\n",
              " 'since',\n",
              " 'found',\n",
              " 'played',\n",
              " 'girl',\n",
              " 'fun',\n",
              " 'course',\n",
              " 'hard',\n",
              " 'That',\n",
              " 'comes',\n",
              " 'worst',\n",
              " 'each',\n",
              " 'looking',\n",
              " 'goes',\n",
              " 'trying',\n",
              " 'believe',\n",
              " 'screen',\n",
              " 'set',\n",
              " 'put',\n",
              " 'different',\n",
              " 'shows',\n",
              " 'our',\n",
              " 'especially',\n",
              " 'book',\n",
              " 'yet',\n",
              " 'looks',\n",
              " 'anyone',\n",
              " 'reason',\n",
              " 'place',\n",
              " 'actor',\n",
              " 'day',\n",
              " 'DVD',\n",
              " 'money',\n",
              " \"'d\",\n",
              " 'year',\n",
              " 'sure',\n",
              " '/>This',\n",
              " 'watched',\n",
              " 'said',\n",
              " 'main',\n",
              " '2',\n",
              " 'job',\n",
              " 'sense',\n",
              " 'ending',\n",
              " 'When',\n",
              " 'American',\n",
              " 'worth',\n",
              " 'seem',\n",
              " 'plays',\n",
              " 'play',\n",
              " 'having',\n",
              " 'version',\n",
              " 'himself',\n",
              " 'true',\n",
              " 'wife',\n",
              " 'effects',\n",
              " 'takes',\n",
              " 'someone',\n",
              " '10',\n",
              " 'together',\n",
              " 'So',\n",
              " 'beautiful',\n",
              " 'John',\n",
              " 'audience',\n",
              " 'left',\n",
              " 'seeing',\n",
              " 'special',\n",
              " 'shot',\n",
              " 'three',\n",
              " 'everything',\n",
              " 'idea',\n",
              " 'excellent',\n",
              " 'half',\n",
              " 'father',\n",
              " 'simply',\n",
              " 'else',\n",
              " 'once',\n",
              " 'everyone',\n",
              " 'nice',\n",
              " 'later',\n",
              " 'less',\n",
              " 'high',\n",
              " 'during',\n",
              " 'completely',\n",
              " 'read',\n",
              " 'mind',\n",
              " 'We',\n",
              " 'used',\n",
              " 'Hollywood',\n",
              " 'One',\n",
              " 'help',\n",
              " 'fan',\n",
              " 'rest',\n",
              " 'Not',\n",
              " 'budget',\n",
              " 'try',\n",
              " 'need',\n",
              " 'However',\n",
              " 'let',\n",
              " 'short',\n",
              " 'use',\n",
              " 'poor',\n",
              " 'performances',\n",
              " 'For',\n",
              " 'given',\n",
              " 'low',\n",
              " 'second',\n",
              " 'production',\n",
              " 'line',\n",
              " 'until',\n",
              " 'camera',\n",
              " 'classic',\n",
              " 'My',\n",
              " 'enjoy',\n",
              " 'either',\n",
              " 'friends',\n",
              " 'tell',\n",
              " 'boring',\n",
              " 'couple',\n",
              " 'home',\n",
              " 'kids',\n",
              " 'start',\n",
              " 'women',\n",
              " 'recommend',\n",
              " 'top',\n",
              " 'understand',\n",
              " 'truly',\n",
              " 'wrong',\n",
              " 'mean',\n",
              " 'night',\n",
              " 'All',\n",
              " '/>It',\n",
              " 'came',\n",
              " 'video',\n",
              " 'house',\n",
              " 'men',\n",
              " 'instead',\n",
              " 'playing',\n",
              " 'stars',\n",
              " 'along',\n",
              " 'awful',\n",
              " 'sex',\n",
              " 'small',\n",
              " 'black',\n",
              " 'full',\n",
              " 'death',\n",
              " 'moments',\n",
              " 'getting',\n",
              " 'person',\n",
              " 'style',\n",
              " 'although',\n",
              " 'doing',\n",
              " 'gives',\n",
              " 'wonderful',\n",
              " 'written',\n",
              " 'stupid',\n",
              " 'however',\n",
              " 'often',\n",
              " '..',\n",
              " 'become',\n",
              " 'liked',\n",
              " 'lines',\n",
              " 'episode',\n",
              " 'human',\n",
              " 'keep',\n",
              " 'early',\n",
              " 'next',\n",
              " 'piece',\n",
              " 'supposed',\n",
              " 'terrible',\n",
              " 'school',\n",
              " 'felt',\n",
              " 'maybe',\n",
              " 'No',\n",
              " 'perfect',\n",
              " 'remember',\n",
              " 'itself',\n",
              " 'THE',\n",
              " 'face',\n",
              " 'case',\n",
              " 'star',\n",
              " 'dialogue',\n",
              " 'entire',\n",
              " 'After',\n",
              " 'others',\n",
              " '3',\n",
              " 'name',\n",
              " 'definitely',\n",
              " 'live',\n",
              " 'waste',\n",
              " 'absolutely',\n",
              " 'head',\n",
              " 'went',\n",
              " 'sort',\n",
              " '\\x96',\n",
              " 'children',\n",
              " 'example',\n",
              " 'Even',\n",
              " 'against',\n",
              " 'His',\n",
              " 'called',\n",
              " 'friend',\n",
              " 'problem',\n",
              " 'already',\n",
              " 'becomes',\n",
              " 'Michael',\n",
              " 'entertaining',\n",
              " 'Well',\n",
              " 'title',\n",
              " 'seemed',\n",
              " 'war',\n",
              " 'beginning',\n",
              " 'care',\n",
              " 'mother',\n",
              " 'worse',\n",
              " 'At',\n",
              " 'several',\n",
              " 'certainly',\n",
              " 'drama',\n",
              " 'wanted',\n",
              " 'dead',\n",
              " 'turn',\n",
              " 'Do',\n",
              " 'cinema',\n",
              " 'fans',\n",
              " 'lost',\n",
              " 'loved',\n",
              " 'under',\n",
              " 'laugh',\n",
              " 'lead',\n",
              " 'boy',\n",
              " 'writing',\n",
              " 'To',\n",
              " 'based',\n",
              " 'fine',\n",
              " 'guys',\n",
              " 'picture',\n",
              " 'direction',\n",
              " 'wants',\n",
              " 'amazing',\n",
              " 'wo',\n",
              " 'hope',\n",
              " 'starts',\n",
              " 'New',\n",
              " 'enjoyed',\n",
              " 'son',\n",
              " 'lives',\n",
              " 'throughout',\n",
              " 'works',\n",
              " 'quality',\n",
              " 'able',\n",
              " 'humor',\n",
              " 'flick',\n",
              " 'past',\n",
              " 'guess',\n",
              " 'totally',\n",
              " 'gave',\n",
              " 'turns',\n",
              " 'behind',\n",
              " 'tries',\n",
              " '<br',\n",
              " 'final',\n",
              " 'finally',\n",
              " 'killer',\n",
              " 'side',\n",
              " 'hand',\n",
              " 'close',\n",
              " 'sound',\n",
              " 'viewer',\n",
              " '1',\n",
              " 'genre',\n",
              " 'white',\n",
              " '....',\n",
              " 'child',\n",
              " 'heart',\n",
              " 'thinking',\n",
              " 'While',\n",
              " 'history',\n",
              " 'parts',\n",
              " 'evil',\n",
              " 'game',\n",
              " 'favorite',\n",
              " 'Also',\n",
              " 'car',\n",
              " 'Why',\n",
              " 'Then',\n",
              " 'expect',\n",
              " 'hour',\n",
              " 'How',\n",
              " 'perhaps',\n",
              " 'self',\n",
              " 'town',\n",
              " 'art',\n",
              " 'themselves',\n",
              " '>',\n",
              " 'act',\n",
              " 'stories',\n",
              " 'myself',\n",
              " 'stuff',\n",
              " 'known',\n",
              " 'decent',\n",
              " 'days',\n",
              " 'directed',\n",
              " 'slow',\n",
              " 'late',\n",
              " 'says',\n",
              " 'voice',\n",
              " 'today',\n",
              " 'feeling',\n",
              " 'type',\n",
              " 'actress',\n",
              " 'roles',\n",
              " 'took',\n",
              " 'Of',\n",
              " 'heard',\n",
              " 'etc',\n",
              " 'fight',\n",
              " 'horrible',\n",
              " 'killed',\n",
              " 'hit',\n",
              " 'writer',\n",
              " 'obvious',\n",
              " 'Mr.',\n",
              " 'brilliant',\n",
              " 'kid',\n",
              " 'involved',\n",
              " 'lack',\n",
              " 'matter',\n",
              " 'run',\n",
              " 'kill',\n",
              " 'attempt',\n",
              " 'group',\n",
              " 'dark',\n",
              " 'girls',\n",
              " 'Some',\n",
              " 'moment',\n",
              " 'extremely',\n",
              " 'leave',\n",
              " 'soon',\n",
              " 'happens',\n",
              " 'particularly',\n",
              " 'daughter',\n",
              " 'happened',\n",
              " 'including',\n",
              " 'eyes',\n",
              " 'violence',\n",
              " 'stop',\n",
              " 'told',\n",
              " 'experience',\n",
              " 'chance',\n",
              " 'interest',\n",
              " 'coming',\n",
              " 'except',\n",
              " 'wonder',\n",
              " 'complete',\n",
              " 'looked',\n",
              " '/>There',\n",
              " 'English',\n",
              " 'highly',\n",
              " 'Just',\n",
              " 'happen',\n",
              " '/>In',\n",
              " 'sometimes',\n",
              " 'number',\n",
              " 'husband',\n",
              " 'shown',\n",
              " 'David',\n",
              " 'somewhat',\n",
              " 'whose',\n",
              " 'With',\n",
              " 'exactly',\n",
              " 'brother',\n",
              " 'musical',\n",
              " 'simple',\n",
              " 'jokes',\n",
              " 'across',\n",
              " 'taken',\n",
              " 'usual',\n",
              " 'career',\n",
              " 'Now',\n",
              " 'obviously',\n",
              " 'James',\n",
              " 'hours',\n",
              " 'strong',\n",
              " 'ago',\n",
              " 'annoying',\n",
              " 'crap',\n",
              " 'yourself',\n",
              " 'age',\n",
              " 'opening',\n",
              " 'reality',\n",
              " 'relationship',\n",
              " 'score',\n",
              " 'serious',\n",
              " 'hero',\n",
              " 'released',\n",
              " 'sad',\n",
              " 'shots',\n",
              " 'finds',\n",
              " 'change',\n",
              " 'hilarious',\n",
              " 'novel',\n",
              " 'cinematography',\n",
              " 'despite',\n",
              " 'ridiculous',\n",
              " 'important',\n",
              " 'light',\n",
              " 'talking',\n",
              " 'started',\n",
              " 'living',\n",
              " 'ends',\n",
              " 'song',\n",
              " 'murder',\n",
              " 'documentary',\n",
              " 'body',\n",
              " 'save',\n",
              " 'Robert',\n",
              " 'female',\n",
              " 'opinion',\n",
              " 'alone',\n",
              " 'view',\n",
              " 'level',\n",
              " 'taking',\n",
              " 'running',\n",
              " 'wish',\n",
              " 'cut',\n",
              " 'huge',\n",
              " 'single',\n",
              " 'talent',\n",
              " 'Man',\n",
              " 'songs',\n",
              " 'knew',\n",
              " 'possible',\n",
              " 'gore',\n",
              " 'mostly',\n",
              " '4',\n",
              " '5',\n",
              " 'middle',\n",
              " '/>If',\n",
              " 'police',\n",
              " 'saying',\n",
              " 'modern',\n",
              " 'ones',\n",
              " 'attention',\n",
              " 'due',\n",
              " 'episodes',\n",
              " 'call',\n",
              " 'events',\n",
              " 'British',\n",
              " 'sets',\n",
              " 'cool',\n",
              " 'sequence',\n",
              " 'word',\n",
              " 'Jack',\n",
              " 'cheap',\n",
              " 'tells',\n",
              " 'happy',\n",
              " 'usually',\n",
              " 'local',\n",
              " 'clearly',\n",
              " 'order',\n",
              " 'turned',\n",
              " 'strange',\n",
              " 'it.<br',\n",
              " 'non',\n",
              " 'words',\n",
              " 'class',\n",
              " 'On',\n",
              " 'appears',\n",
              " 'bring',\n",
              " 'thriller',\n",
              " 'George',\n",
              " 'moving',\n",
              " 'supporting',\n",
              " 'Although',\n",
              " 'problems',\n",
              " 'sequel',\n",
              " 'Oh',\n",
              " 'blood',\n",
              " 'predictable',\n",
              " 'country',\n",
              " 'major',\n",
              " 'surprised',\n",
              " 'easily',\n",
              " 'knows',\n",
              " 'comic',\n",
              " 'room',\n",
              " '/>But',\n",
              " 'Oscar',\n",
              " 'similar',\n",
              " 'OK',\n",
              " 'silly',\n",
              " 'feels',\n",
              " 'falls',\n",
              " 'hell',\n",
              " 'Paul',\n",
              " 'entertainment',\n",
              " 'scary',\n",
              " 'stand',\n",
              " 'animation',\n",
              " 'disappointed',\n",
              " 'review',\n",
              " 'message',\n",
              " 'York',\n",
              " 'romantic',\n",
              " 'television',\n",
              " 'mention',\n",
              " 'fast',\n",
              " 'needs',\n",
              " 'enjoyable',\n",
              " 'future',\n",
              " 'Richard',\n",
              " 'bunch',\n",
              " 'giving',\n",
              " 'named',\n",
              " 'release',\n",
              " 'four',\n",
              " 'within',\n",
              " 'First',\n",
              " 'elements',\n",
              " 'dull',\n",
              " 'points',\n",
              " 'begins',\n",
              " 'five',\n",
              " 'seriously',\n",
              " 'showing',\n",
              " 'none',\n",
              " 'Maybe',\n",
              " 'near',\n",
              " 'herself',\n",
              " 'means',\n",
              " 'nearly',\n",
              " 'viewers',\n",
              " 'ways',\n",
              " 'beyond',\n",
              " 'effort',\n",
              " 'minute',\n",
              " 'power',\n",
              " 'King',\n",
              " 'straight',\n",
              " 'feature',\n",
              " 'team',\n",
              " 'overall',\n",
              " 'typical',\n",
              " 'Peter',\n",
              " 'dialog',\n",
              " 'brought',\n",
              " 'certain',\n",
              " 'editing',\n",
              " 'storyline',\n",
              " 'Disney',\n",
              " 'comments',\n",
              " 'form',\n",
              " 'talk',\n",
              " 'fall',\n",
              " 'follow',\n",
              " 'working',\n",
              " 'above',\n",
              " 'clear',\n",
              " 'tale',\n",
              " 'sequences',\n",
              " 'sister',\n",
              " 'kept',\n",
              " 'rating',\n",
              " 'theme',\n",
              " 'ten',\n",
              " 'tried',\n",
              " 'figure',\n",
              " 'God',\n",
              " 'Lee',\n",
              " 'decided',\n",
              " 'weak',\n",
              " 'soundtrack',\n",
              " 'using',\n",
              " 'whether',\n",
              " 'actual',\n",
              " 'doubt',\n",
              " 'hear',\n",
              " 'leads',\n",
              " 'upon',\n",
              " 'Is',\n",
              " 'filmed',\n",
              " 'Unfortunately',\n",
              " 'easy',\n",
              " 'eye',\n",
              " 're',\n",
              " 'viewing',\n",
              " 'Who',\n",
              " 'fantastic',\n",
              " 'city',\n",
              " 'material',\n",
              " 'theater',\n",
              " 'movie.<br',\n",
              " 'famous',\n",
              " 'hate',\n",
              " 'lame',\n",
              " 'stage',\n",
              " 'Jane',\n",
              " 'greatest',\n",
              " 'killing',\n",
              " 'learn',\n",
              " 'French',\n",
              " 'add',\n",
              " 'expected',\n",
              " 'lots',\n",
              " 'period',\n",
              " 'Tom',\n",
              " 'realistic',\n",
              " '$',\n",
              " '/>As',\n",
              " 'basically',\n",
              " 'Japanese',\n",
              " 'mystery',\n",
              " 'stay',\n",
              " 'B',\n",
              " 'among',\n",
              " 'buy',\n",
              " 'premise',\n",
              " 'parents',\n",
              " 'became',\n",
              " 'particular',\n",
              " 'average',\n",
              " 'suspense',\n",
              " 'atmosphere',\n",
              " 'film.<br',\n",
              " 'poorly',\n",
              " 'subject',\n",
              " '/>A',\n",
              " 'reviews',\n",
              " 'yes',\n",
              " '/>And',\n",
              " 'begin',\n",
              " 'Yes',\n",
              " 'crime',\n",
              " 'dance',\n",
              " 'From',\n",
              " 'Her',\n",
              " 'move',\n",
              " 'sexual',\n",
              " 'possibly',\n",
              " 'deal',\n",
              " 'question',\n",
              " 'These',\n",
              " 'Joe',\n",
              " 'meets',\n",
              " 'realize',\n",
              " 'believable',\n",
              " 'leaves',\n",
              " 'gone',\n",
              " 'needed',\n",
              " 'forced',\n",
              " 'write',\n",
              " '`',\n",
              " 'difficult',\n",
              " 'earlier',\n",
              " 'apparently',\n",
              " 'nature',\n",
              " 'badly',\n",
              " 'credits',\n",
              " 'Its',\n",
              " 'directors',\n",
              " 'worked',\n",
              " 'America',\n",
              " 'surprise',\n",
              " 'screenplay',\n",
              " 'third',\n",
              " 'rent',\n",
              " 'Like',\n",
              " 'forward',\n",
              " '20',\n",
              " 'An',\n",
              " 's',\n",
              " 'writers',\n",
              " 'sit',\n",
              " 'free',\n",
              " 'interested',\n",
              " 'nor',\n",
              " 'somehow',\n",
              " 'acted',\n",
              " 'male',\n",
              " 'keeps',\n",
              " 'meant',\n",
              " 'older',\n",
              " 'situation',\n",
              " 'NOT',\n",
              " 'open',\n",
              " 'die',\n",
              " 'memorable',\n",
              " 'reading',\n",
              " 'result',\n",
              " 'truth',\n",
              " 'superb',\n",
              " 'War',\n",
              " 'imagine',\n",
              " 'romance',\n",
              " 'whom',\n",
              " 'appear',\n",
              " 'emotional',\n",
              " 'please',\n",
              " 'potential',\n",
              " 'brings',\n",
              " 'season',\n",
              " 'business',\n",
              " 'development',\n",
              " 'dramatic',\n",
              " 'sorry',\n",
              " 'towards',\n",
              " 'fails',\n",
              " 'wait',\n",
              " 'ask',\n",
              " 'comment',\n",
              " 'effect',\n",
              " 'rate',\n",
              " 'weird',\n",
              " 'footage',\n",
              " 'political',\n",
              " 'villain',\n",
              " 'create',\n",
              " 'manages',\n",
              " 'perfectly',\n",
              " 'society',\n",
              " 'mess',\n",
              " 'cheesy',\n",
              " 'portrayed',\n",
              " 'setting',\n",
              " 'check',\n",
              " ...]"
            ]
          },
          "metadata": {},
          "execution_count": 31
        }
      ]
    },
    {
      "cell_type": "markdown",
      "metadata": {
        "id": "DewmXr3V8_vx"
      },
      "source": [
        "As before, we create the iterators, placing the tensors on the GPU if one is available.\n",
        "\n",
        "Another thing for packed padded sequences all of the tensors within a batch need to be sorted by their lengths. This is handled in the iterator by setting `sort_within_batch = True`."
      ]
    },
    {
      "cell_type": "code",
      "execution_count": 34,
      "metadata": {
        "colab": {
          "base_uri": "https://localhost:8080/"
        },
        "id": "Mdrh86ZL8_vy",
        "outputId": "1a70f650-4ca7-4fb6-9204-9a0a025b8b9f"
      },
      "outputs": [
        {
          "output_type": "execute_result",
          "data": {
            "text/plain": [
              "(tensor([[1846, 4748, 5394,  ...,  764,   14, 3452],\n",
              "         [  16,   12, 6504,  ...,    3,    0,  383],\n",
              "         [   3, 4732,  728,  ...,  106,   14,   16],\n",
              "         ...,\n",
              "         [  16,  320,    3,  ...,    4,   30,    4],\n",
              "         [  24,   12,    0,  ...,    1,    1,    1],\n",
              "         [   4,    4,   58,  ...,    1,    1,    1]], device='cuda:0'),\n",
              " tensor([133, 133, 133, 133, 133, 133, 133, 133, 133, 133, 133, 133, 133, 133,\n",
              "         133, 133, 133, 133, 133, 133, 133, 133, 133, 133, 133, 133, 133, 133,\n",
              "         133, 133, 133, 132, 132, 132, 132, 132, 132, 132, 132, 132, 132, 132,\n",
              "         132, 132, 132, 132, 132, 132, 132, 132, 132, 132, 132, 132, 132, 132,\n",
              "         132, 132, 131, 131, 131, 131, 131, 131], device='cuda:0'))"
            ]
          },
          "metadata": {},
          "execution_count": 34
        }
      ],
      "source": [
        "BATCH_SIZE = 64\n",
        "\n",
        "device = torch.device('cuda' if torch.cuda.is_available() else 'cpu')\n",
        "\n",
        "train_iterator, valid_iterator, test_iterator = data.BucketIterator.splits(\n",
        "    (train_data, valid_data, test_data), \n",
        "    batch_size = BATCH_SIZE,\n",
        "    sort_within_batch = True,\n",
        "    device = device)\n",
        "\n",
        "next(iter(train_iterator)).text"
      ]
    },
    {
      "cell_type": "markdown",
      "metadata": {
        "id": "A7rRgR-e8_v0"
      },
      "source": [
        "## Build the Model\n",
        "\n",
        "The model features the most drastic changes.\n",
        "\n",
        "### Different RNN Architecture\n",
        "\n",
        "We'll be using a different RNN architecture called a Long Short-Term Memory (LSTM). Why is an LSTM better than a standard RNN? Standard RNNs suffer from the [vanishing gradient problem](https://en.wikipedia.org/wiki/Vanishing_gradient_problem). LSTMs overcome this by having an extra recurrent state called a _cell_, $c$ - which can be thought of as the \"memory\" of the LSTM - and the use use multiple _gates_ which control the flow of information into and out of the memory. For more information, go [here](https://colah.github.io/posts/2015-08-Understanding-LSTMs/). We can simply think of the LSTM as a function of $x_t$, $h_t$ and $c_t$, instead of just $x_t$ and $h_t$.\n",
        "\n",
        "$$(h_t, c_t) = \\text{LSTM}(x_t, h_t, c_t)$$\n",
        "\n",
        "Thus, the model using an LSTM looks something like (with the embedding layers omitted):\n",
        "\n",
        "![](https://github.com/AlimAlb/pytorch-sentiment-analysis/blob/master/assets/sentiment2.png?raw=1)\n",
        "\n",
        "The initial cell state, $c_0$, like the initial hidden state is initialized to a tensor of all zeros. The sentiment prediction is still, however, only made using the final hidden state, not the final cell state, i.e. $\\hat{y}=f(h_T)$.\n",
        "\n",
        "### Bidirectional RNN\n",
        "\n",
        "The concept behind a bidirectional RNN is simple. As well as having an RNN processing the words in the sentence from the first to the last (a forward RNN), we have a second RNN processing the words in the sentence from the **last to the first** (a backward RNN). At time step $t$, the forward RNN is processing word $x_t$, and the backward RNN is processing word $x_{T-t+1}$. \n",
        "\n",
        "In PyTorch, the hidden state (and cell state) tensors returned by the forward and backward RNNs are stacked on top of each other in a single tensor. \n",
        "\n",
        "We make our sentiment prediction using a concatenation of the last hidden state from the forward RNN (obtained from final word of the sentence), $h_T^\\rightarrow$, and the last hidden state from the backward RNN (obtained from the first word of the sentence), $h_T^\\leftarrow$, i.e. $\\hat{y}=f(h_T^\\rightarrow, h_T^\\leftarrow)$   \n",
        "\n",
        "The image below shows a bi-directional RNN, with the forward RNN in orange, the backward RNN in green and the linear layer in silver.  \n",
        "\n",
        "![](https://github.com/AlimAlb/pytorch-sentiment-analysis/blob/master/assets/sentiment3.png?raw=1)\n",
        "\n",
        "### Multi-layer RNN\n",
        "\n",
        "Multi-layer RNNs (also called *deep RNNs*) are another simple concept. The idea is that we add additional RNNs on top of the initial standard RNN, where each RNN added is another *layer*. The hidden state output by the first (bottom) RNN at time-step $t$ will be the input to the RNN above it at time step $t$. The prediction is then made from the final hidden state of the final (highest) layer.\n",
        "\n",
        "The image below shows a multi-layer unidirectional RNN, where the layer number is given as a superscript. Also note that each layer needs their own initial hidden state, $h_0^L$.\n",
        "\n",
        "![](https://github.com/AlimAlb/pytorch-sentiment-analysis/blob/master/assets/sentiment4.png?raw=1)\n",
        "\n",
        "### Regularization\n",
        "\n",
        "Although we've added improvements to our model, each one adds additional parameters. Without going into overfitting into too much detail, the more parameters you have in in your model, the higher the probability that your model will overfit (memorize the training data, causing  a low training error but high validation/testing error, i.e. poor generalization to new, unseen examples). To combat this, we use regularization. More specifically, we use a method of regularization called *dropout*. Dropout works by randomly *dropping out* (setting to 0) neurons in a layer during a forward pass. The probability that each neuron is dropped out is set by a hyperparameter and each neuron with dropout applied is considered indepenently. One theory about why dropout works is that a model with parameters dropped out can be seen as a \"weaker\" (less parameters) model. The predictions from all these \"weaker\" models (one for each forward pass) get averaged together withinin the parameters of the model. Thus, your one model can be thought of as an ensemble of weaker models, none of which are over-parameterized and thus should not overfit.\n",
        "\n",
        "### Implementation Details\n",
        "\n",
        "Another addition to this model is that we are not going to learn the embedding for the `<pad>` token. This is because we want to explitictly tell our model that padding tokens are irrelevant to determining the sentiment of a sentence. This means the embedding for the pad token will remain at what it is initialized to (we initialize it to all zeros later). We do this by passing the index of our pad token as the `padding_idx` argument to the `nn.Embedding` layer.\n",
        "\n",
        "To use an LSTM instead of the standard RNN, we use `nn.LSTM` instead of `nn.RNN`. Also, note that the LSTM returns the `output` and a tuple of the final `hidden` state and the final `cell` state, whereas the standard RNN only returned the `output` and final `hidden` state. \n",
        "\n",
        "As the final hidden state of our LSTM has both a forward and a backward component, which will be concatenated together, the size of the input to the `nn.Linear` layer is twice that of the hidden dimension size.\n",
        "\n",
        "Implementing bidirectionality and adding additional layers are done by passing values for the `num_layers` and `bidirectional` arguments for the RNN/LSTM. \n",
        "\n",
        "Dropout is implemented by initializing an `nn.Dropout` layer (the argument is the probability of dropping out each neuron) and using it within the `forward` method after each layer we want to apply dropout to. **Note**: never use dropout on the input or output layers (`text` or `fc` in this case), you only ever want to use dropout on intermediate layers. The LSTM has a `dropout` argument which adds dropout on the connections between hidden states in one layer to hidden states in the next layer. \n",
        "\n",
        "As we are passing the lengths of our sentences to be able to use packed padded sequences, we have to add a second argument, `text_lengths`, to `forward`. \n",
        "\n",
        "Before we pass our embeddings to the RNN, we need to pack them, which we do with `nn.utils.rnn.packed_padded_sequence`. This will cause our RNN to only process the non-padded elements of our sequence. The RNN will then return `packed_output` (a packed sequence) as well as the `hidden` and `cell` states (both of which are tensors). Without packed padded sequences, `hidden` and `cell` are tensors from the last element in the sequence, which will most probably be a pad token, however when using packed padded sequences they are both from the last non-padded element in the sequence. Note that the `lengths` argument of `packed_padded_sequence` must be a CPU tensor so we explicitly make it one by using `.to('cpu')`.\n",
        "\n",
        "We then unpack the output sequence, with `nn.utils.rnn.pad_packed_sequence`, to transform it from a packed sequence to a tensor. The elements of `output` from padding tokens will be zero tensors (tensors where every element is zero). Usually, we only have to unpack output if we are going to use it later on in the model. Although we aren't in this case, we still unpack the sequence just to show how it is done.\n",
        "\n",
        "The final hidden state, `hidden`, has a shape of _**[num layers * num directions, batch size, hid dim]**_. These are ordered: **[forward_layer_0, backward_layer_0, forward_layer_1, backward_layer 1, ..., forward_layer_n, backward_layer n]**. As we want the final (top) layer forward and backward hidden states, we get the top two hidden layers from the first dimension, `hidden[-2,:,:]` and `hidden[-1,:,:]`, and concatenate them together before passing them to the linear layer (after applying dropout). "
      ]
    },
    {
      "cell_type": "code",
      "execution_count": 8,
      "metadata": {
        "id": "d5H8K1Ep8_v2"
      },
      "outputs": [],
      "source": [
        "import torch.nn as nn\n",
        "\n",
        "class RNN(nn.Module):\n",
        "    def __init__(self, vocab_size, embedding_dim, hidden_dim, output_dim, n_layers, \n",
        "                 bidirectional, dropout, pad_idx):\n",
        "        \n",
        "        super().__init__()\n",
        "        \n",
        "        self.embedding = nn.Embedding(vocab_size, embedding_dim, padding_idx = pad_idx)\n",
        "        \n",
        "        self.rnn = nn.LSTM(embedding_dim, \n",
        "                           hidden_dim, \n",
        "                           num_layers=n_layers, \n",
        "                           bidirectional=bidirectional, \n",
        "                           dropout=dropout)\n",
        "        \n",
        "        self.fc = nn.Linear(hidden_dim * 2, output_dim)\n",
        "        \n",
        "        self.dropout = nn.Dropout(dropout)\n",
        "        \n",
        "    def forward(self, text, text_lengths):\n",
        "        \n",
        "        #text = [sent len, batch size]\n",
        "        \n",
        "        embedded = self.dropout(self.embedding(text))\n",
        "        \n",
        "        #embedded = [sent len, batch size, emb dim]\n",
        "        \n",
        "        #pack sequence\n",
        "        # lengths need to be on CPU!\n",
        "        packed_embedded = nn.utils.rnn.pack_padded_sequence(embedded, text_lengths.to('cpu'))\n",
        "        \n",
        "        packed_output, (hidden, cell) = self.rnn(packed_embedded)\n",
        "        \n",
        "        #unpack sequence\n",
        "        output, output_lengths = nn.utils.rnn.pad_packed_sequence(packed_output)\n",
        "\n",
        "        #output = [sent len, batch size, hid dim * num directions]\n",
        "        #output over padding tokens are zero tensors\n",
        "        \n",
        "        #hidden = [num layers * num directions, batch size, hid dim]\n",
        "        #cell = [num layers * num directions, batch size, hid dim]\n",
        "        \n",
        "        #concat the final forward (hidden[-2,:,:]) and backward (hidden[-1,:,:]) hidden layers\n",
        "        #and apply dropout\n",
        "        \n",
        "        hidden = self.dropout(torch.cat((hidden[-2,:,:], hidden[-1,:,:]), dim = 1))\n",
        "                \n",
        "        #hidden = [batch size, hid dim * num directions]\n",
        "            \n",
        "        return self.fc(hidden)"
      ]
    },
    {
      "cell_type": "markdown",
      "metadata": {
        "id": "q5GBY3F78_v3"
      },
      "source": [
        "Like before, we'll create an instance of our RNN class, with the new parameters and arguments for the number of layers, bidirectionality and dropout probability.\n",
        "\n",
        "To ensure the pre-trained vectors can be loaded into the model, the `EMBEDDING_DIM` must be equal to that of the pre-trained GloVe vectors loaded earlier.\n",
        "\n",
        "We get our pad token index from the vocabulary, getting the actual string representing the pad token from the field's `pad_token` attribute, which is `<pad>` by default."
      ]
    },
    {
      "cell_type": "code",
      "execution_count": 9,
      "metadata": {
        "id": "GXoVpIrp8_v4"
      },
      "outputs": [],
      "source": [
        "INPUT_DIM = len(TEXT.vocab)\n",
        "EMBEDDING_DIM = 100\n",
        "HIDDEN_DIM = 256\n",
        "OUTPUT_DIM = 1\n",
        "N_LAYERS = 2\n",
        "BIDIRECTIONAL = True\n",
        "DROPOUT = 0.5\n",
        "PAD_IDX = TEXT.vocab.stoi[TEXT.pad_token]\n",
        "\n",
        "model = RNN(INPUT_DIM, \n",
        "            EMBEDDING_DIM, \n",
        "            HIDDEN_DIM, \n",
        "            OUTPUT_DIM, \n",
        "            N_LAYERS, \n",
        "            BIDIRECTIONAL, \n",
        "            DROPOUT, \n",
        "            PAD_IDX)"
      ]
    },
    {
      "cell_type": "markdown",
      "metadata": {
        "id": "2PMuqlCX8_v5"
      },
      "source": [
        "We'll print out the number of parameters in our model. \n",
        "\n",
        "Notice how we have almost twice as many parameters as before!"
      ]
    },
    {
      "cell_type": "code",
      "execution_count": 10,
      "metadata": {
        "colab": {
          "base_uri": "https://localhost:8080/"
        },
        "id": "dygpfNpA8_v5",
        "outputId": "a7b1ea96-4a15-4052-d6ee-f1a8dca2c982"
      },
      "outputs": [
        {
          "output_type": "stream",
          "name": "stdout",
          "text": [
            "The model has 4,810,857 trainable parameters\n"
          ]
        }
      ],
      "source": [
        "def count_parameters(model):\n",
        "    return sum(p.numel() for p in model.parameters() if p.requires_grad)\n",
        "\n",
        "print(f'The model has {count_parameters(model):,} trainable parameters')"
      ]
    },
    {
      "cell_type": "markdown",
      "metadata": {
        "id": "zXqLLvXP8_v6"
      },
      "source": [
        "The final addition is copying the pre-trained word embeddings we loaded earlier into the `embedding` layer of our model.\n",
        "\n",
        "We retrieve the embeddings from the field's vocab, and check they're the correct size, _**[vocab size, embedding dim]**_ "
      ]
    },
    {
      "cell_type": "code",
      "execution_count": 40,
      "metadata": {
        "colab": {
          "base_uri": "https://localhost:8080/"
        },
        "id": "5GsK4Vmv8_v7",
        "outputId": "d060d868-43f2-4d76-e6e5-ae25373243e3"
      },
      "outputs": [
        {
          "output_type": "stream",
          "name": "stdout",
          "text": [
            "torch.Size([25002, 100])\n"
          ]
        }
      ],
      "source": [
        "pretrained_embeddings = TEXT.vocab.vectors\n",
        "\n",
        "print(pretrained_embeddings.shape)"
      ]
    },
    {
      "cell_type": "markdown",
      "metadata": {
        "id": "cPT1o3XH8_v7"
      },
      "source": [
        "We then replace the initial weights of the `embedding` layer with the pre-trained embeddings.\n",
        "\n",
        "**Note**: this should always be done on the `weight.data` and not the `weight`!"
      ]
    },
    {
      "cell_type": "code",
      "execution_count": 12,
      "metadata": {
        "colab": {
          "base_uri": "https://localhost:8080/"
        },
        "id": "ZFXSgRgT8_v8",
        "outputId": "1f4c46d8-1dad-4daf-f5eb-7d387ee3ce1e"
      },
      "outputs": [
        {
          "output_type": "execute_result",
          "data": {
            "text/plain": [
              "tensor([[-0.1117, -0.4966,  0.1631,  ...,  1.2647, -0.2753, -0.1325],\n",
              "        [-0.8555, -0.7208,  1.3755,  ...,  0.0825, -1.1314,  0.3997],\n",
              "        [-0.0382, -0.2449,  0.7281,  ..., -0.1459,  0.8278,  0.2706],\n",
              "        ...,\n",
              "        [-0.2307, -0.7766,  0.9134,  ..., -0.7217,  0.0664, -0.7596],\n",
              "        [ 2.1002, -0.6146, -1.8185,  ...,  0.4023, -0.5066,  0.3892],\n",
              "        [ 0.2429, -0.0744,  0.1650,  ...,  0.6570,  0.1391, -0.2840]])"
            ]
          },
          "metadata": {},
          "execution_count": 12
        }
      ],
      "source": [
        "model.embedding.weight.data.copy_(pretrained_embeddings)"
      ]
    },
    {
      "cell_type": "markdown",
      "metadata": {
        "id": "pjD3WF0U8_v8"
      },
      "source": [
        "As our `<unk>` and `<pad>` token aren't in the pre-trained vocabulary they have been initialized using `unk_init` (an $\\mathcal{N}(0,1)$ distribution) when building our vocab. It is preferable to initialize them both to all zeros to explicitly tell our model that, initially, they are irrelevant for determining sentiment. \n",
        "\n",
        "We do this by manually setting their row in the embedding weights matrix to zeros. We get their row by finding the index of the tokens, which we have already done for the padding index.\n",
        "\n",
        "**Note**: like initializing the embeddings, this should be done on the `weight.data` and not the `weight`!"
      ]
    },
    {
      "cell_type": "code",
      "source": [
        "next(iter(train_iterator)).text[1]"
      ],
      "metadata": {
        "id": "lJ99qPNil9QL",
        "outputId": "1b7a8fa7-17b7-4dae-e211-0285b59f33d4",
        "colab": {
          "base_uri": "https://localhost:8080/"
        }
      },
      "execution_count": 43,
      "outputs": [
        {
          "output_type": "execute_result",
          "data": {
            "text/plain": [
              "tensor([204, 204, 204, 204, 204, 204, 204, 204, 204, 204, 204, 204, 203, 203,\n",
              "        203, 203, 203, 203, 203, 203, 203, 203, 203, 203, 203, 203, 203, 203,\n",
              "        203, 202, 202, 202, 202, 202, 202, 202, 202, 202, 202, 202, 202, 202,\n",
              "        202, 202, 202, 202, 202, 202, 202, 202, 202, 201, 201, 201, 201, 201,\n",
              "        201, 201, 201, 201, 201, 201, 201, 201], device='cuda:0')"
            ]
          },
          "metadata": {},
          "execution_count": 43
        }
      ]
    },
    {
      "cell_type": "code",
      "execution_count": 13,
      "metadata": {
        "colab": {
          "base_uri": "https://localhost:8080/"
        },
        "id": "h4Epl4768_v9",
        "outputId": "329467bc-5bb8-45e4-dd5e-ea7233781404"
      },
      "outputs": [
        {
          "output_type": "stream",
          "name": "stdout",
          "text": [
            "tensor([[ 0.0000,  0.0000,  0.0000,  ...,  0.0000,  0.0000,  0.0000],\n",
            "        [ 0.0000,  0.0000,  0.0000,  ...,  0.0000,  0.0000,  0.0000],\n",
            "        [-0.0382, -0.2449,  0.7281,  ..., -0.1459,  0.8278,  0.2706],\n",
            "        ...,\n",
            "        [-0.2307, -0.7766,  0.9134,  ..., -0.7217,  0.0664, -0.7596],\n",
            "        [ 2.1002, -0.6146, -1.8185,  ...,  0.4023, -0.5066,  0.3892],\n",
            "        [ 0.2429, -0.0744,  0.1650,  ...,  0.6570,  0.1391, -0.2840]])\n"
          ]
        }
      ],
      "source": [
        "UNK_IDX = TEXT.vocab.stoi[TEXT.unk_token]\n",
        "\n",
        "model.embedding.weight.data[UNK_IDX] = torch.zeros(EMBEDDING_DIM)\n",
        "model.embedding.weight.data[PAD_IDX] = torch.zeros(EMBEDDING_DIM)\n",
        "\n",
        "print(model.embedding.weight.data)"
      ]
    },
    {
      "cell_type": "markdown",
      "metadata": {
        "id": "JyjrKSOi8_v_"
      },
      "source": [
        "We can now see the first two rows of the embedding weights matrix have been set to zeros. As we passed the index of the pad token to the `padding_idx` of the embedding layer it will remain zeros throughout training, however the `<unk>` token embedding will be learned."
      ]
    },
    {
      "cell_type": "markdown",
      "metadata": {
        "id": "bOgZWH5O8_wA"
      },
      "source": [
        "## Train the Model"
      ]
    },
    {
      "cell_type": "markdown",
      "metadata": {
        "id": "ZuM5ND4a8_wA"
      },
      "source": [
        "Now to training the model.\n",
        "\n",
        "The only change we'll make here is changing the optimizer from `SGD` to `Adam`. SGD updates all parameters with the same learning rate and choosing this learning rate can be tricky. `Adam` adapts the learning rate for each parameter, giving parameters that are updated more frequently lower learning rates and parameters that are updated infrequently higher learning rates. More information about `Adam` (and other optimizers) can be found [here](http://ruder.io/optimizing-gradient-descent/index.html).\n",
        "\n",
        "To change `SGD` to `Adam`, we simply change `optim.SGD` to `optim.Adam`, also note how we do not have to provide an initial learning rate for Adam as PyTorch specifies a sensibile default initial learning rate."
      ]
    },
    {
      "cell_type": "code",
      "execution_count": 14,
      "metadata": {
        "id": "IP_CiNU-8_wB"
      },
      "outputs": [],
      "source": [
        "import torch.optim as optim\n",
        "\n",
        "optimizer = optim.Adam(model.parameters())"
      ]
    },
    {
      "cell_type": "markdown",
      "metadata": {
        "id": "61Br1PIp8_wC"
      },
      "source": [
        "The rest of the steps for training the model are unchanged.\n",
        "\n",
        "We define the criterion and place the model and criterion on the GPU (if available)..."
      ]
    },
    {
      "cell_type": "code",
      "execution_count": 15,
      "metadata": {
        "id": "aSBQfXPa8_wC"
      },
      "outputs": [],
      "source": [
        "criterion = nn.BCEWithLogitsLoss()\n",
        "\n",
        "model = model.to(device)\n",
        "criterion = criterion.to(device)"
      ]
    },
    {
      "cell_type": "markdown",
      "metadata": {
        "id": "mmicFB8G8_wC"
      },
      "source": [
        "We implement the function to calculate accuracy..."
      ]
    },
    {
      "cell_type": "code",
      "execution_count": 16,
      "metadata": {
        "id": "CekQLL7f8_wC"
      },
      "outputs": [],
      "source": [
        "def binary_accuracy(preds, y):\n",
        "    \"\"\"\n",
        "    Returns accuracy per batch, i.e. if you get 8/10 right, this returns 0.8, NOT 8\n",
        "    \"\"\"\n",
        "\n",
        "    #round predictions to the closest integer\n",
        "    rounded_preds = torch.round(torch.sigmoid(preds))\n",
        "    correct = (rounded_preds == y).float() #convert into float for division \n",
        "    acc = correct.sum() / len(correct)\n",
        "    return acc"
      ]
    },
    {
      "cell_type": "markdown",
      "metadata": {
        "id": "B5ep9K_v8_wD"
      },
      "source": [
        "We define a function for training our model. \n",
        "\n",
        "As we have set `include_lengths = True`, our `batch.text` is now a tuple with the first element being the numericalized tensor and the second element being the actual lengths of each sequence. We separate these into their own variables, `text` and `text_lengths`, before passing them to the model.\n",
        "\n",
        "**Note**: as we are now using dropout, we must remember to use `model.train()` to ensure the dropout is \"turned on\" while training."
      ]
    },
    {
      "cell_type": "code",
      "execution_count": 17,
      "metadata": {
        "id": "MV7UY2LS8_wD"
      },
      "outputs": [],
      "source": [
        "def train(model, iterator, optimizer, criterion):\n",
        "    \n",
        "    epoch_loss = 0\n",
        "    epoch_acc = 0\n",
        "    \n",
        "    model.train()\n",
        "    \n",
        "    for batch in iterator:\n",
        "        \n",
        "        optimizer.zero_grad()\n",
        "        \n",
        "        text, text_lengths = batch.text\n",
        "        \n",
        "        predictions = model(text, text_lengths).squeeze(1)\n",
        "        \n",
        "        loss = criterion(predictions, batch.label)\n",
        "        \n",
        "        acc = binary_accuracy(predictions, batch.label)\n",
        "        \n",
        "        loss.backward()\n",
        "        \n",
        "        optimizer.step()\n",
        "        \n",
        "        epoch_loss += loss.item()\n",
        "        epoch_acc += acc.item()\n",
        "        \n",
        "    return epoch_loss / len(iterator), epoch_acc / len(iterator)"
      ]
    },
    {
      "cell_type": "markdown",
      "metadata": {
        "id": "yzxo8rcC8_wE"
      },
      "source": [
        "Then we define a function for testing our model, again remembering to separate `batch.text`.\n",
        "\n",
        "**Note**: as we are now using dropout, we must remember to use `model.eval()` to ensure the dropout is \"turned off\" while evaluating."
      ]
    },
    {
      "cell_type": "code",
      "execution_count": 18,
      "metadata": {
        "id": "RFvqYOXz8_wG"
      },
      "outputs": [],
      "source": [
        "def evaluate(model, iterator, criterion):\n",
        "    \n",
        "    epoch_loss = 0\n",
        "    epoch_acc = 0\n",
        "    \n",
        "    model.eval()\n",
        "    \n",
        "    with torch.no_grad():\n",
        "    \n",
        "        for batch in iterator:\n",
        "\n",
        "            text, text_lengths = batch.text\n",
        "            \n",
        "            predictions = model(text, text_lengths).squeeze(1)\n",
        "            \n",
        "            loss = criterion(predictions, batch.label)\n",
        "            \n",
        "            acc = binary_accuracy(predictions, batch.label)\n",
        "\n",
        "            epoch_loss += loss.item()\n",
        "            epoch_acc += acc.item()\n",
        "        \n",
        "    return epoch_loss / len(iterator), epoch_acc / len(iterator)"
      ]
    },
    {
      "cell_type": "markdown",
      "metadata": {
        "id": "wm0BiGor8_wG"
      },
      "source": [
        "And also create a nice function to tell us how long our epochs are taking."
      ]
    },
    {
      "cell_type": "code",
      "execution_count": 19,
      "metadata": {
        "id": "uTbpYMGD8_wG"
      },
      "outputs": [],
      "source": [
        "import time\n",
        "\n",
        "def epoch_time(start_time, end_time):\n",
        "    elapsed_time = end_time - start_time\n",
        "    elapsed_mins = int(elapsed_time / 60)\n",
        "    elapsed_secs = int(elapsed_time - (elapsed_mins * 60))\n",
        "    return elapsed_mins, elapsed_secs"
      ]
    },
    {
      "cell_type": "markdown",
      "metadata": {
        "id": "K8fI6LBD8_wH"
      },
      "source": [
        "Finally, we train our model..."
      ]
    },
    {
      "cell_type": "code",
      "execution_count": 20,
      "metadata": {
        "colab": {
          "base_uri": "https://localhost:8080/"
        },
        "id": "ZxwiRkiV8_wH",
        "outputId": "116ada73-3a76-4ac9-b036-fbb2466688cb"
      },
      "outputs": [
        {
          "output_type": "stream",
          "name": "stdout",
          "text": [
            "Epoch: 01 | Epoch Time: 0m 38s\n",
            "\tTrain Loss: 0.664 | Train Acc: 59.34%\n",
            "\t Val. Loss: 0.648 |  Val. Acc: 63.21%\n",
            "Epoch: 02 | Epoch Time: 0m 37s\n",
            "\tTrain Loss: 0.629 | Train Acc: 64.71%\n",
            "\t Val. Loss: 0.529 |  Val. Acc: 73.43%\n",
            "Epoch: 03 | Epoch Time: 0m 38s\n",
            "\tTrain Loss: 0.540 | Train Acc: 73.01%\n",
            "\t Val. Loss: 0.427 |  Val. Acc: 81.70%\n",
            "Epoch: 04 | Epoch Time: 0m 38s\n",
            "\tTrain Loss: 0.357 | Train Acc: 85.16%\n",
            "\t Val. Loss: 0.288 |  Val. Acc: 88.31%\n",
            "Epoch: 05 | Epoch Time: 0m 37s\n",
            "\tTrain Loss: 0.284 | Train Acc: 88.86%\n",
            "\t Val. Loss: 0.270 |  Val. Acc: 88.76%\n"
          ]
        }
      ],
      "source": [
        "N_EPOCHS = 5\n",
        "\n",
        "best_valid_loss = float('inf')\n",
        "\n",
        "for epoch in range(N_EPOCHS):\n",
        "\n",
        "    start_time = time.time()\n",
        "    \n",
        "    train_loss, train_acc = train(model, train_iterator, optimizer, criterion)\n",
        "    valid_loss, valid_acc = evaluate(model, valid_iterator, criterion)\n",
        "    \n",
        "    end_time = time.time()\n",
        "\n",
        "    epoch_mins, epoch_secs = epoch_time(start_time, end_time)\n",
        "    \n",
        "    if valid_loss < best_valid_loss:\n",
        "        best_valid_loss = valid_loss\n",
        "        torch.save(model.state_dict(), 'tut2-model.pt')\n",
        "    \n",
        "    print(f'Epoch: {epoch+1:02} | Epoch Time: {epoch_mins}m {epoch_secs}s')\n",
        "    print(f'\\tTrain Loss: {train_loss:.3f} | Train Acc: {train_acc*100:.2f}%')\n",
        "    print(f'\\t Val. Loss: {valid_loss:.3f} |  Val. Acc: {valid_acc*100:.2f}%')"
      ]
    },
    {
      "cell_type": "markdown",
      "metadata": {
        "id": "doFhAR_w8_wI"
      },
      "source": [
        "...and get our new and vastly improved test accuracy!"
      ]
    },
    {
      "cell_type": "code",
      "execution_count": 21,
      "metadata": {
        "colab": {
          "base_uri": "https://localhost:8080/"
        },
        "id": "_2betILX8_wI",
        "outputId": "ec83ff26-26c4-4ce8-bfc9-e83f88e6ca29"
      },
      "outputs": [
        {
          "output_type": "stream",
          "name": "stdout",
          "text": [
            "Test Loss: 0.284 | Test Acc: 88.03%\n"
          ]
        }
      ],
      "source": [
        "model.load_state_dict(torch.load('tut2-model.pt'))\n",
        "\n",
        "test_loss, test_acc = evaluate(model, test_iterator, criterion)\n",
        "\n",
        "print(f'Test Loss: {test_loss:.3f} | Test Acc: {test_acc*100:.2f}%')"
      ]
    },
    {
      "cell_type": "markdown",
      "metadata": {
        "id": "xLOxZxN08_wJ"
      },
      "source": [
        "## User Input\n",
        "\n",
        "We can now use our model to predict the sentiment of any sentence we give it. As it has been trained on movie reviews, the sentences provided should also be movie reviews.\n",
        "\n",
        "When using a model for inference it should always be in evaluation mode. If this tutorial is followed step-by-step then it should already be in evaluation mode (from doing `evaluate` on the test set), however we explicitly set it to avoid any risk.\n",
        "\n",
        "Our `predict_sentiment` function does a few things:\n",
        "- sets the model to evaluation mode\n",
        "- tokenizes the sentence, i.e. splits it from a raw string into a list of tokens\n",
        "- indexes the tokens by converting them into their integer representation from our vocabulary\n",
        "- gets the length of our sequence\n",
        "- converts the indexes, which are a Python list into a PyTorch tensor\n",
        "- add a batch dimension by `unsqueeze`ing \n",
        "- converts the length into a tensor\n",
        "- squashes the output prediction from a real number between 0 and 1 with the `sigmoid` function\n",
        "- converts the tensor holding a single value into an integer with the `item()` method\n",
        "\n",
        "We are expecting reviews with a negative sentiment to return a value close to 0 and positive reviews to return a value close to 1."
      ]
    },
    {
      "cell_type": "code",
      "execution_count": 22,
      "metadata": {
        "id": "KeslsPaH8_wK"
      },
      "outputs": [],
      "source": [
        "import spacy\n",
        "nlp = spacy.load('en_core_web_sm')\n",
        "\n",
        "def predict_sentiment(model, sentence):\n",
        "    model.eval()\n",
        "    tokenized = [tok.text for tok in nlp.tokenizer(sentence)]\n",
        "    indexed = [TEXT.vocab.stoi[t] for t in tokenized]\n",
        "    length = [len(indexed)]\n",
        "    tensor = torch.LongTensor(indexed).to(device)\n",
        "    tensor = tensor.unsqueeze(1)\n",
        "    length_tensor = torch.LongTensor(length)\n",
        "    prediction = torch.sigmoid(model(tensor, length_tensor))\n",
        "    return prediction.item()"
      ]
    },
    {
      "cell_type": "markdown",
      "metadata": {
        "id": "oJyUaXC78_wK"
      },
      "source": [
        "An example negative review..."
      ]
    },
    {
      "cell_type": "code",
      "execution_count": 23,
      "metadata": {
        "colab": {
          "base_uri": "https://localhost:8080/"
        },
        "id": "HDulW5iF8_wK",
        "outputId": "b9612afa-88e8-4584-9d42-9db2c50594e0"
      },
      "outputs": [
        {
          "output_type": "execute_result",
          "data": {
            "text/plain": [
              "0.03605136275291443"
            ]
          },
          "metadata": {},
          "execution_count": 23
        }
      ],
      "source": [
        "predict_sentiment(model, \"This film is terrible\")"
      ]
    },
    {
      "cell_type": "markdown",
      "metadata": {
        "id": "XlcTfOOz8_wL"
      },
      "source": [
        "An example positive review..."
      ]
    },
    {
      "cell_type": "code",
      "execution_count": 24,
      "metadata": {
        "colab": {
          "base_uri": "https://localhost:8080/"
        },
        "id": "P8jLxsRt8_wL",
        "outputId": "707fcfcb-872c-463c-dd44-1f4690fb5095"
      },
      "outputs": [
        {
          "output_type": "execute_result",
          "data": {
            "text/plain": [
              "0.9943103790283203"
            ]
          },
          "metadata": {},
          "execution_count": 24
        }
      ],
      "source": [
        "predict_sentiment(model, \"This film is great\")"
      ]
    },
    {
      "cell_type": "markdown",
      "metadata": {
        "id": "Q8A8TlZb8_wM"
      },
      "source": [
        "## Next Steps\n",
        "\n",
        "We've now built a decent sentiment analysis model for movie reviews! In the next notebook we'll implement a model that gets comparable accuracy with far fewer parameters and trains much, much faster."
      ]
    }
  ],
  "metadata": {
    "kernelspec": {
      "display_name": "Python 3",
      "language": "python",
      "name": "python3"
    },
    "language_info": {
      "codemirror_mode": {
        "name": "ipython",
        "version": 3
      },
      "file_extension": ".py",
      "mimetype": "text/x-python",
      "name": "python",
      "nbconvert_exporter": "python",
      "pygments_lexer": "ipython3",
      "version": "3.8.5"
    },
    "colab": {
      "provenance": []
    },
    "accelerator": "GPU",
    "gpuClass": "standard"
  },
  "nbformat": 4,
  "nbformat_minor": 0
}